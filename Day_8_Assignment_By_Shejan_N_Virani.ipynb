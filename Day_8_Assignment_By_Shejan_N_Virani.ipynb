{
  "nbformat": 4,
  "nbformat_minor": 0,
  "metadata": {
    "colab": {
      "name": "Day8.ipynb",
      "provenance": []
    },
    "kernelspec": {
      "name": "python3",
      "display_name": "Python 3"
    }
  },
  "cells": [
    {
      "cell_type": "markdown",
      "metadata": {
        "id": "PFSLLTHPKUUw",
        "colab_type": "text"
      },
      "source": [
        "###Q2.  For this challenge you need to develop a Python program to open a file in read only mode and try writing something to it and handle the subsequent errors using Exception Handling."
      ]
    },
    {
      "cell_type": "code",
      "metadata": {
        "id": "XJLxkCQTKT0y",
        "colab_type": "code",
        "colab": {
          "base_uri": "https://localhost:8080/",
          "height": 34
        },
        "outputId": "47e6379b-7cd1-4212-b14a-d272ea5a8e75"
      },
      "source": [
        "%%writefile Example.txt\n",
        "\n",
        "I am Shejan N. Virani"
      ],
      "execution_count": 8,
      "outputs": [
        {
          "output_type": "stream",
          "text": [
            "Writing Example.txt\n"
          ],
          "name": "stdout"
        }
      ]
    },
    {
      "cell_type": "code",
      "metadata": {
        "id": "7XW5TnhPLlaO",
        "colab_type": "code",
        "colab": {
          "base_uri": "https://localhost:8080/",
          "height": 84
        },
        "outputId": "ed51ce85-85cf-4728-e916-b4db44a494ed"
      },
      "source": [
        "try:\n",
        "    \n",
        "    file = open(\"Example.txt\",\"r\")\n",
        "    \n",
        "    file.write(\"\\nI am 19 yrs. old.\")\n",
        "    \n",
        "    print(\"\\nWrite operation has been successfully conducted in read-only mode.\")\n",
        "    \n",
        "except Exception as w:\n",
        "    \n",
        "    print(\"\\nError occured\")\n",
        "    \n",
        "    print(\"\\nError message  :\",w)"
      ],
      "execution_count": 10,
      "outputs": [
        {
          "output_type": "stream",
          "text": [
            "\n",
            "Error occured\n",
            "\n",
            "Error message  : not writable\n"
          ],
          "name": "stdout"
        }
      ]
    },
    {
      "cell_type": "markdown",
      "metadata": {
        "id": "YMwc4o3RLtoK",
        "colab_type": "text"
      },
      "source": [
        "###Q1. Write a decorator function for your taking input for you any kind of function you want to build,\n",
        "###For example - You make a fibonacci series function,in which your input range is been defined by the decorator program input."
      ]
    },
    {
      "cell_type": "code",
      "metadata": {
        "id": "mDGOgSLXLvib",
        "colab_type": "code",
        "colab": {}
      },
      "source": [
        "def decorator_func(addition):\n",
        "    def major():\n",
        "        print(\"Please Enter numbers\")\n",
        "        print(\"Enter 1st value : \")\n",
        "        s = int(input())\n",
        "        print(\"Enter 2nd Value : \")\n",
        "        v = int(input())\n",
        "        return addition(s,v)\n",
        "    return major\n",
        "@decorator_func\n",
        "def addition (s,v):\n",
        "    print(\"The summation : \" , (s+v))\n",
        "   "
      ],
      "execution_count": 17,
      "outputs": []
    },
    {
      "cell_type": "code",
      "metadata": {
        "id": "zaX3HaYhLyqs",
        "colab_type": "code",
        "colab": {
          "base_uri": "https://localhost:8080/",
          "height": 118
        },
        "outputId": "3c5ab5b9-94a9-4c72-ae1b-254eb0d8edf5"
      },
      "source": [
        "addition()"
      ],
      "execution_count": 18,
      "outputs": [
        {
          "output_type": "stream",
          "text": [
            "Please Enter numbers\n",
            "Enter 1st value : \n",
            "50\n",
            "Enter 2nd Value : \n",
            "60\n",
            "The summation :  110\n"
          ],
          "name": "stdout"
        }
      ]
    }
  ]
}