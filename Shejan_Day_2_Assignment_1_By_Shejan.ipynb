{
  "nbformat": 4,
  "nbformat_minor": 0,
  "metadata": {
    "colab": {
      "name": "Shejan_Day_2_Assignment-1_By_Shejan.ipynb",
      "provenance": [],
      "collapsed_sections": []
    },
    "kernelspec": {
      "name": "python3",
      "display_name": "Python 3"
    }
  },
  "cells": [
    {
      "cell_type": "markdown",
      "metadata": {
        "id": "wOHRVkmNVkdu",
        "colab_type": "text"
      },
      "source": [
        "#Day 2 Assignment Batch 7\n",
        "\n",
        "\n",
        "---\n",
        "\n",
        "\n",
        "\n",
        "\n",
        "\n"
      ]
    },
    {
      "cell_type": "code",
      "metadata": {
        "id": "OhhRFgjIVua4",
        "colab_type": "code",
        "colab": {
          "base_uri": "https://localhost:8080/",
          "height": 51
        },
        "outputId": "00b184aa-28c8-4e3c-dd60-c071ac3ffe11"
      },
      "source": [
        "print(\"Submission Done By Shejan N. Virani\")\n",
        "print(\"www.shejanbro1.0@gmail.com\")"
      ],
      "execution_count": 3,
      "outputs": [
        {
          "output_type": "stream",
          "text": [
            "Submission Done By Shejan N. Virani\n",
            "www.shejanbro1.0@gmail.com\n"
          ],
          "name": "stdout"
        }
      ]
    },
    {
      "cell_type": "markdown",
      "metadata": {
        "id": "Jbs8kZx6KnLi",
        "colab_type": "text"
      },
      "source": [
        "##Q 1. List"
      ]
    },
    {
      "cell_type": "code",
      "metadata": {
        "id": "Ehc6XH8FKkYz",
        "colab_type": "code",
        "colab": {
          "base_uri": "https://localhost:8080/",
          "height": 34
        },
        "outputId": "a06197e6-904d-4eee-bd07-7c34901648d3"
      },
      "source": [
        "lst = [\"Shejan N. Virani\",11,11.01,[11,1,20,1]]\n",
        "lst"
      ],
      "execution_count": 4,
      "outputs": [
        {
          "output_type": "execute_result",
          "data": {
            "text/plain": [
              "['Shejan N. Virani', 11, 11.01, [11, 1, 20, 1]]"
            ]
          },
          "metadata": {
            "tags": []
          },
          "execution_count": 4
        }
      ]
    },
    {
      "cell_type": "code",
      "metadata": {
        "id": "Wpj1SI1uK69K",
        "colab_type": "code",
        "colab": {
          "base_uri": "https://localhost:8080/",
          "height": 34
        },
        "outputId": "adfaae5b-7bdc-4ba3-b5ab-4b918a1e4770"
      },
      "source": [
        "lst[3]"
      ],
      "execution_count": 5,
      "outputs": [
        {
          "output_type": "execute_result",
          "data": {
            "text/plain": [
              "[11, 1, 20, 1]"
            ]
          },
          "metadata": {
            "tags": []
          },
          "execution_count": 5
        }
      ]
    },
    {
      "cell_type": "code",
      "metadata": {
        "id": "YpkVuE3-LOLp",
        "colab_type": "code",
        "colab": {
          "base_uri": "https://localhost:8080/",
          "height": 34
        },
        "outputId": "bcd09d6e-99b6-490f-fec1-38886678a89f"
      },
      "source": [
        "lst[2:4]"
      ],
      "execution_count": 6,
      "outputs": [
        {
          "output_type": "execute_result",
          "data": {
            "text/plain": [
              "[11.01, [11, 1, 20, 1]]"
            ]
          },
          "metadata": {
            "tags": []
          },
          "execution_count": 6
        }
      ]
    },
    {
      "cell_type": "code",
      "metadata": {
        "id": "MmD7dFINLRNG",
        "colab_type": "code",
        "colab": {
          "base_uri": "https://localhost:8080/",
          "height": 34
        },
        "outputId": "34614a35-b5f1-41e7-f6c5-79be17322c81"
      },
      "source": [
        "lst[3][3]"
      ],
      "execution_count": 7,
      "outputs": [
        {
          "output_type": "execute_result",
          "data": {
            "text/plain": [
              "1"
            ]
          },
          "metadata": {
            "tags": []
          },
          "execution_count": 7
        }
      ]
    },
    {
      "cell_type": "code",
      "metadata": {
        "id": "e2bQC4D8LYE6",
        "colab_type": "code",
        "colab": {
          "base_uri": "https://localhost:8080/",
          "height": 34
        },
        "outputId": "5103c3d0-c7bd-4cb8-acea-c81174133149"
      },
      "source": [
        "lst.append(\"VSGOI\")\n",
        "lst"
      ],
      "execution_count": 8,
      "outputs": [
        {
          "output_type": "execute_result",
          "data": {
            "text/plain": [
              "['Shejan N. Virani', 11, 11.01, [11, 1, 20, 1], 'VSGOI']"
            ]
          },
          "metadata": {
            "tags": []
          },
          "execution_count": 8
        }
      ]
    },
    {
      "cell_type": "code",
      "metadata": {
        "id": "iwEnriB3Lojh",
        "colab_type": "code",
        "colab": {
          "base_uri": "https://localhost:8080/",
          "height": 34
        },
        "outputId": "440465c3-d104-4c9c-8bf8-1127c9d3d6c0"
      },
      "source": [
        "lst.insert(3,\"Android Dev\")\n",
        "lst"
      ],
      "execution_count": 9,
      "outputs": [
        {
          "output_type": "execute_result",
          "data": {
            "text/plain": [
              "['Shejan N. Virani', 11, 11.01, 'Android Dev', [11, 1, 20, 1], 'VSGOI']"
            ]
          },
          "metadata": {
            "tags": []
          },
          "execution_count": 9
        }
      ]
    },
    {
      "cell_type": "code",
      "metadata": {
        "id": "4cHI_mFQLx2j",
        "colab_type": "code",
        "colab": {
          "base_uri": "https://localhost:8080/",
          "height": 34
        },
        "outputId": "e5dcbaf9-55b1-4def-cff2-d56a0a6be4a3"
      },
      "source": [
        "lst.remove(\"Android Dev\")\n",
        "lst"
      ],
      "execution_count": 10,
      "outputs": [
        {
          "output_type": "execute_result",
          "data": {
            "text/plain": [
              "['Shejan N. Virani', 11, 11.01, [11, 1, 20, 1], 'VSGOI']"
            ]
          },
          "metadata": {
            "tags": []
          },
          "execution_count": 10
        }
      ]
    },
    {
      "cell_type": "code",
      "metadata": {
        "id": "O38Pyb-cL3L7",
        "colab_type": "code",
        "colab": {
          "base_uri": "https://localhost:8080/",
          "height": 34
        },
        "outputId": "551403b6-7fd7-4310-a05a-a2b84f2503d3"
      },
      "source": [
        "lst.reverse()\n",
        "lst"
      ],
      "execution_count": 11,
      "outputs": [
        {
          "output_type": "execute_result",
          "data": {
            "text/plain": [
              "['VSGOI', [11, 1, 20, 1], 11.01, 11, 'Shejan N. Virani']"
            ]
          },
          "metadata": {
            "tags": []
          },
          "execution_count": 11
        }
      ]
    },
    {
      "cell_type": "code",
      "metadata": {
        "id": "sRFB2OyGL5Wc",
        "colab_type": "code",
        "colab": {
          "base_uri": "https://localhost:8080/",
          "height": 34
        },
        "outputId": "5975c9a7-43d8-4957-b350-b007ef64b18c"
      },
      "source": [
        "lst.copy()\n",
        "lst"
      ],
      "execution_count": 12,
      "outputs": [
        {
          "output_type": "execute_result",
          "data": {
            "text/plain": [
              "['VSGOI', [11, 1, 20, 1], 11.01, 11, 'Shejan N. Virani']"
            ]
          },
          "metadata": {
            "tags": []
          },
          "execution_count": 12
        }
      ]
    },
    {
      "cell_type": "code",
      "metadata": {
        "id": "X2SquxxSL_Qv",
        "colab_type": "code",
        "colab": {
          "base_uri": "https://localhost:8080/",
          "height": 34
        },
        "outputId": "68fbe5fc-f100-4ac2-8f3a-5deceefe8754"
      },
      "source": [
        "lst.clear()\n",
        "lst"
      ],
      "execution_count": 13,
      "outputs": [
        {
          "output_type": "execute_result",
          "data": {
            "text/plain": [
              "[]"
            ]
          },
          "metadata": {
            "tags": []
          },
          "execution_count": 13
        }
      ]
    },
    {
      "cell_type": "code",
      "metadata": {
        "id": "LAL8cBaPMC7N",
        "colab_type": "code",
        "colab": {
          "base_uri": "https://localhost:8080/",
          "height": 34
        },
        "outputId": "b0b3c90f-db9f-4303-a06f-42466408f201"
      },
      "source": [
        "lst.append(\"Letsupgrade Python Essentials Batch 7 Day 2 Shejan V\")\n",
        "lst"
      ],
      "execution_count": 14,
      "outputs": [
        {
          "output_type": "execute_result",
          "data": {
            "text/plain": [
              "['Letsupgrade Python Essentials Batch 7 Day 2 Shejan V']"
            ]
          },
          "metadata": {
            "tags": []
          },
          "execution_count": 14
        }
      ]
    },
    {
      "cell_type": "code",
      "metadata": {
        "id": "eUuMtexKMLu7",
        "colab_type": "code",
        "colab": {
          "base_uri": "https://localhost:8080/",
          "height": 34
        },
        "outputId": "9d1193d5-707e-4ee5-ed18-6f0934f1b239"
      },
      "source": [
        "lst.count(\"Letsupgrade Python Essentials Batch 7 Day 2 Shejan V\")"
      ],
      "execution_count": 15,
      "outputs": [
        {
          "output_type": "execute_result",
          "data": {
            "text/plain": [
              "1"
            ]
          },
          "metadata": {
            "tags": []
          },
          "execution_count": 15
        }
      ]
    },
    {
      "cell_type": "code",
      "metadata": {
        "id": "OdMlSY4UMLrX",
        "colab_type": "code",
        "colab": {
          "base_uri": "https://localhost:8080/",
          "height": 51
        },
        "outputId": "e119e8ac-9325-4cb7-bcd3-e309a93e4af1"
      },
      "source": [
        "lst.append(\"Submitted by Shejan N. Virani , www.shejanbro1.0@gmail.com\")\n",
        "lst"
      ],
      "execution_count": 16,
      "outputs": [
        {
          "output_type": "execute_result",
          "data": {
            "text/plain": [
              "['Letsupgrade Python Essentials Batch 7 Day 2 Shejan V',\n",
              " 'Submitted by Shejan N. Virani , www.shejanbro1.0@gmail.com']"
            ]
          },
          "metadata": {
            "tags": []
          },
          "execution_count": 16
        }
      ]
    },
    {
      "cell_type": "markdown",
      "metadata": {
        "id": "mxOhDdx3MnW7",
        "colab_type": "text"
      },
      "source": [
        "##Q 2. Dictionaries "
      ]
    },
    {
      "cell_type": "code",
      "metadata": {
        "id": "pz4RQ0b3Ynf5",
        "colab_type": "code",
        "colab": {
          "base_uri": "https://localhost:8080/",
          "height": 34
        },
        "outputId": "6cfe452b-b11c-4296-dc3e-7da49802b990"
      },
      "source": [
        "dit = {\"Fruits\":\"Mango\",\"Vegetables\":\"Brocli\",\"Kilogram\":\"8\"}\n",
        "dit"
      ],
      "execution_count": 18,
      "outputs": [
        {
          "output_type": "execute_result",
          "data": {
            "text/plain": [
              "{'Fruits': 'Mango', 'Kilogram': '8', 'Vegetables': 'Brocli'}"
            ]
          },
          "metadata": {
            "tags": []
          },
          "execution_count": 18
        }
      ]
    },
    {
      "cell_type": "code",
      "metadata": {
        "id": "pkiG4C-cNfSF",
        "colab_type": "code",
        "colab": {}
      },
      "source": [
        "dit.clear()"
      ],
      "execution_count": 19,
      "outputs": []
    },
    {
      "cell_type": "code",
      "metadata": {
        "id": "ytvK45MBMw16",
        "colab_type": "code",
        "colab": {
          "base_uri": "https://localhost:8080/",
          "height": 34
        },
        "outputId": "b17641bb-47a2-4d5c-8e38-e89dd8d8ae97"
      },
      "source": [
        "dit = {\"Fruits\":\"Mango\",\"Vegetables\":\"Brocli\",\"Kilogram\":\"8\"}\n",
        "dit"
      ],
      "execution_count": 20,
      "outputs": [
        {
          "output_type": "execute_result",
          "data": {
            "text/plain": [
              "{'Fruits': 'Mango', 'Kilogram': '8', 'Vegetables': 'Brocli'}"
            ]
          },
          "metadata": {
            "tags": []
          },
          "execution_count": 20
        }
      ]
    },
    {
      "cell_type": "code",
      "metadata": {
        "id": "JydIFAwfNCPV",
        "colab_type": "code",
        "colab": {
          "base_uri": "https://localhost:8080/",
          "height": 35
        },
        "outputId": "338c1b38-cb58-457f-b502-4c99230b8220"
      },
      "source": [
        "dit.get(\"Fruits\")"
      ],
      "execution_count": 21,
      "outputs": [
        {
          "output_type": "execute_result",
          "data": {
            "application/vnd.google.colaboratory.intrinsic+json": {
              "type": "string"
            },
            "text/plain": [
              "'Mango'"
            ]
          },
          "metadata": {
            "tags": []
          },
          "execution_count": 21
        }
      ]
    },
    {
      "cell_type": "code",
      "metadata": {
        "id": "-Yjq3ByCNGsE",
        "colab_type": "code",
        "colab": {
          "base_uri": "https://localhost:8080/",
          "height": 34
        },
        "outputId": "72373fa7-fa98-4003-c277-3e6952013bda"
      },
      "source": [
        "dit.values()"
      ],
      "execution_count": 22,
      "outputs": [
        {
          "output_type": "execute_result",
          "data": {
            "text/plain": [
              "dict_values(['Mango', 'Brocli', '8'])"
            ]
          },
          "metadata": {
            "tags": []
          },
          "execution_count": 22
        }
      ]
    },
    {
      "cell_type": "code",
      "metadata": {
        "id": "cxGVl2YNNLJi",
        "colab_type": "code",
        "colab": {
          "base_uri": "https://localhost:8080/",
          "height": 34
        },
        "outputId": "b0ea55ae-f7f5-471a-ca86-3c63b32e5cd3"
      },
      "source": [
        "dit.popitem()"
      ],
      "execution_count": 23,
      "outputs": [
        {
          "output_type": "execute_result",
          "data": {
            "text/plain": [
              "('Kilogram', '8')"
            ]
          },
          "metadata": {
            "tags": []
          },
          "execution_count": 23
        }
      ]
    },
    {
      "cell_type": "code",
      "metadata": {
        "id": "JkGckD8iNRCe",
        "colab_type": "code",
        "colab": {
          "base_uri": "https://localhost:8080/",
          "height": 34
        },
        "outputId": "07b76e84-816d-43f8-cfc6-8c52c6d9e78f"
      },
      "source": [
        "dit.update({\"₹\":\"80\"})\n",
        "dit"
      ],
      "execution_count": 24,
      "outputs": [
        {
          "output_type": "execute_result",
          "data": {
            "text/plain": [
              "{'Fruits': 'Mango', 'Vegetables': 'Brocli', '₹': '80'}"
            ]
          },
          "metadata": {
            "tags": []
          },
          "execution_count": 24
        }
      ]
    },
    {
      "cell_type": "code",
      "metadata": {
        "id": "c617RhyBNtGA",
        "colab_type": "code",
        "colab": {
          "base_uri": "https://localhost:8080/",
          "height": 35
        },
        "outputId": "fc7532f8-b764-44d0-c222-a183a2cfbd88"
      },
      "source": [
        "dit.pop(\"₹\")"
      ],
      "execution_count": 25,
      "outputs": [
        {
          "output_type": "execute_result",
          "data": {
            "application/vnd.google.colaboratory.intrinsic+json": {
              "type": "string"
            },
            "text/plain": [
              "'80'"
            ]
          },
          "metadata": {
            "tags": []
          },
          "execution_count": 25
        }
      ]
    },
    {
      "cell_type": "code",
      "metadata": {
        "id": "u8dTQwZsN4pa",
        "colab_type": "code",
        "colab": {
          "base_uri": "https://localhost:8080/",
          "height": 34
        },
        "outputId": "840326fc-fec3-456b-a881-154aa43d2fdc"
      },
      "source": [
        "dit"
      ],
      "execution_count": 26,
      "outputs": [
        {
          "output_type": "execute_result",
          "data": {
            "text/plain": [
              "{'Fruits': 'Mango', 'Vegetables': 'Brocli'}"
            ]
          },
          "metadata": {
            "tags": []
          },
          "execution_count": 26
        }
      ]
    },
    {
      "cell_type": "code",
      "metadata": {
        "id": "zuGcNsYJN8fh",
        "colab_type": "code",
        "colab": {
          "base_uri": "https://localhost:8080/",
          "height": 34
        },
        "outputId": "d81381aa-07bd-44d6-dddd-6e08ee6a30b3"
      },
      "source": [
        "dit.clear()\n",
        "dit"
      ],
      "execution_count": 27,
      "outputs": [
        {
          "output_type": "execute_result",
          "data": {
            "text/plain": [
              "{}"
            ]
          },
          "metadata": {
            "tags": []
          },
          "execution_count": 27
        }
      ]
    },
    {
      "cell_type": "code",
      "metadata": {
        "id": "ufBpRco0OE2W",
        "colab_type": "code",
        "colab": {
          "base_uri": "https://localhost:8080/",
          "height": 51
        },
        "outputId": "29f84d5a-7950-4488-a451-039a4cc68e4a"
      },
      "source": [
        "dit.update({\"Submitted by\":\"Shejan N Virani\",\"Submitted to\": \"Letsupgrade Python Essentials Batch 7 Day 2\"})\n",
        "dit"
      ],
      "execution_count": 28,
      "outputs": [
        {
          "output_type": "execute_result",
          "data": {
            "text/plain": [
              "{'Submitted by': 'Shejan N Virani',\n",
              " 'Submitted to': 'Letsupgrade Python Essentials Batch 7 Day 2'}"
            ]
          },
          "metadata": {
            "tags": []
          },
          "execution_count": 28
        }
      ]
    },
    {
      "cell_type": "markdown",
      "metadata": {
        "id": "k7YCq5b8OhiH",
        "colab_type": "text"
      },
      "source": [
        "##Q 3. Sets"
      ]
    },
    {
      "cell_type": "code",
      "metadata": {
        "id": "h4jzpprVQwqV",
        "colab_type": "code",
        "colab": {}
      },
      "source": [
        "set.clear()"
      ],
      "execution_count": null,
      "outputs": []
    },
    {
      "cell_type": "code",
      "metadata": {
        "id": "vCFWC4DwOqmm",
        "colab_type": "code",
        "colab": {
          "base_uri": "https://localhost:8080/",
          "height": 34
        },
        "outputId": "d20dd24f-9369-417f-a5bd-2fea6653849b"
      },
      "source": [
        "set = {\"Shejan\",40,\" Dev\",6,1,30}\n",
        "set"
      ],
      "execution_count": null,
      "outputs": [
        {
          "output_type": "execute_result",
          "data": {
            "text/plain": [
              "{' Dev', 1, 30, 40, 6, 'Shejan'}"
            ]
          },
          "metadata": {
            "tags": []
          },
          "execution_count": 1
        }
      ]
    },
    {
      "cell_type": "code",
      "metadata": {
        "id": "1OYMdrrXPttg",
        "colab_type": "code",
        "colab": {
          "base_uri": "https://localhost:8080/",
          "height": 34
        },
        "outputId": "307b693f-3a6d-4276-d2d5-3d04eb1fb7d9"
      },
      "source": [
        "set.add(\"virani\")\n",
        "set"
      ],
      "execution_count": null,
      "outputs": [
        {
          "output_type": "execute_result",
          "data": {
            "text/plain": [
              "{' Dev', 1, 30, 40, 6, 'Shejan', 'virani'}"
            ]
          },
          "metadata": {
            "tags": []
          },
          "execution_count": 2
        }
      ]
    },
    {
      "cell_type": "code",
      "metadata": {
        "id": "CQBrhfbpP5vb",
        "colab_type": "code",
        "colab": {
          "base_uri": "https://localhost:8080/",
          "height": 34
        },
        "outputId": "ad87da8e-d690-497b-fbcc-8d3174227617"
      },
      "source": [
        "set1 = {5,10,8,7}\n",
        "set1"
      ],
      "execution_count": null,
      "outputs": [
        {
          "output_type": "execute_result",
          "data": {
            "text/plain": [
              "{5, 7, 8, 10}"
            ]
          },
          "metadata": {
            "tags": []
          },
          "execution_count": 3
        }
      ]
    },
    {
      "cell_type": "code",
      "metadata": {
        "id": "EMiXyc5-QFMe",
        "colab_type": "code",
        "colab": {
          "base_uri": "https://localhost:8080/",
          "height": 34
        },
        "outputId": "9384f31d-c3cb-4c52-b0d4-b2ce8b8440c8"
      },
      "source": [
        "set.difference(set1)"
      ],
      "execution_count": null,
      "outputs": [
        {
          "output_type": "execute_result",
          "data": {
            "text/plain": [
              "{' Dev', 1, 30, 40, 6, 'Shejan', 'virani'}"
            ]
          },
          "metadata": {
            "tags": []
          },
          "execution_count": 4
        }
      ]
    },
    {
      "cell_type": "code",
      "metadata": {
        "id": "iz6pMfJkQVQe",
        "colab_type": "code",
        "colab": {}
      },
      "source": [
        "set.discard(\"Dev\")"
      ],
      "execution_count": null,
      "outputs": []
    },
    {
      "cell_type": "code",
      "metadata": {
        "id": "gw15IEaZQP9o",
        "colab_type": "code",
        "colab": {
          "base_uri": "https://localhost:8080/",
          "height": 34
        },
        "outputId": "e8820e0a-eb88-4038-e8b9-5be73805e81c"
      },
      "source": [
        "set"
      ],
      "execution_count": null,
      "outputs": [
        {
          "output_type": "execute_result",
          "data": {
            "text/plain": [
              "{' Dev', 1, 30, 40, 6, 'Shejan', 'virani'}"
            ]
          },
          "metadata": {
            "tags": []
          },
          "execution_count": 6
        }
      ]
    },
    {
      "cell_type": "code",
      "metadata": {
        "id": "0ZdIiG3lRQH8",
        "colab_type": "code",
        "colab": {
          "base_uri": "https://localhost:8080/",
          "height": 34
        },
        "outputId": "5367dbc6-0288-4e4a-feb5-bb2e73cd9bd5"
      },
      "source": [
        "set.union(set1)"
      ],
      "execution_count": null,
      "outputs": [
        {
          "output_type": "execute_result",
          "data": {
            "text/plain": [
              "{' Dev', 1, 10, 30, 40, 5, 6, 7, 8, 'Shejan', 'virani'}"
            ]
          },
          "metadata": {
            "tags": []
          },
          "execution_count": 7
        }
      ]
    },
    {
      "cell_type": "code",
      "metadata": {
        "id": "RimUzQewRUgy",
        "colab_type": "code",
        "colab": {
          "base_uri": "https://localhost:8080/",
          "height": 34
        },
        "outputId": "673f0c4e-e889-404d-b9d6-99bdeeb62000"
      },
      "source": [
        "set"
      ],
      "execution_count": null,
      "outputs": [
        {
          "output_type": "execute_result",
          "data": {
            "text/plain": [
              "{' Dev', 1, 30, 40, 6, 'Shejan', 'virani'}"
            ]
          },
          "metadata": {
            "tags": []
          },
          "execution_count": 8
        }
      ]
    },
    {
      "cell_type": "code",
      "metadata": {
        "id": "Q14kuoh5RX0o",
        "colab_type": "code",
        "colab": {
          "base_uri": "https://localhost:8080/",
          "height": 34
        },
        "outputId": "cb38e8b3-f9f9-426e-ef47-a1804d95592a"
      },
      "source": [
        "set1"
      ],
      "execution_count": null,
      "outputs": [
        {
          "output_type": "execute_result",
          "data": {
            "text/plain": [
              "{5, 7, 8, 10}"
            ]
          },
          "metadata": {
            "tags": []
          },
          "execution_count": 9
        }
      ]
    },
    {
      "cell_type": "code",
      "metadata": {
        "id": "v-LZpz_aRu5J",
        "colab_type": "code",
        "colab": {
          "base_uri": "https://localhost:8080/",
          "height": 34
        },
        "outputId": "d8702d20-b113-482d-b405-4c9ef0da9942"
      },
      "source": [
        "set1.remove(8)\n",
        "set1"
      ],
      "execution_count": null,
      "outputs": [
        {
          "output_type": "execute_result",
          "data": {
            "text/plain": [
              "{5, 7, 10}"
            ]
          },
          "metadata": {
            "tags": []
          },
          "execution_count": 10
        }
      ]
    },
    {
      "cell_type": "code",
      "metadata": {
        "id": "ffw_BIQcR8-K",
        "colab_type": "code",
        "colab": {
          "base_uri": "https://localhost:8080/",
          "height": 34
        },
        "outputId": "cb0e9f68-3b38-4916-9c11-6f08f92b1003"
      },
      "source": [
        "set1.symmetric_difference(set)"
      ],
      "execution_count": null,
      "outputs": [
        {
          "output_type": "execute_result",
          "data": {
            "text/plain": [
              "{' Dev', 1, 10, 30, 40, 5, 6, 7, 'Shejan', 'virani'}"
            ]
          },
          "metadata": {
            "tags": []
          },
          "execution_count": 11
        }
      ]
    },
    {
      "cell_type": "code",
      "metadata": {
        "id": "kTuiaE9DSF-l",
        "colab_type": "code",
        "colab": {
          "base_uri": "https://localhost:8080/",
          "height": 51
        },
        "outputId": "95bb0c87-6857-4dc9-e21a-5f0b4e2cb810"
      },
      "source": [
        "set2 = {\"Submitted by: shejan N Virani\",\"Submitted to: Letsupgrade Python Essentials Batch 7 Day 2\"}\n",
        "set2"
      ],
      "execution_count": null,
      "outputs": [
        {
          "output_type": "execute_result",
          "data": {
            "text/plain": [
              "{'Submitted by: shejan N Virani',\n",
              " 'Submitted to: Letsupgrade Python Essentials Batch 7 Day 2'}"
            ]
          },
          "metadata": {
            "tags": []
          },
          "execution_count": 13
        }
      ]
    },
    {
      "cell_type": "markdown",
      "metadata": {
        "id": "STRj8AiKSiau",
        "colab_type": "text"
      },
      "source": [
        "##Q 4. Tuple"
      ]
    },
    {
      "cell_type": "code",
      "metadata": {
        "id": "nmeZrJPHStsW",
        "colab_type": "code",
        "colab": {
          "base_uri": "https://localhost:8080/",
          "height": 34
        },
        "outputId": "23ac1e04-a847-4201-d56e-c706569dcdd8"
      },
      "source": [
        "tuple = (\"Shejan\",\"n\",\"Virani\",\"19\")\n",
        "tuple"
      ],
      "execution_count": null,
      "outputs": [
        {
          "output_type": "execute_result",
          "data": {
            "text/plain": [
              "('Shejan', 'n', 'Virani', '19')"
            ]
          },
          "metadata": {
            "tags": []
          },
          "execution_count": 14
        }
      ]
    },
    {
      "cell_type": "code",
      "metadata": {
        "id": "8i6A_bQaS_zk",
        "colab_type": "code",
        "colab": {
          "base_uri": "https://localhost:8080/",
          "height": 34
        },
        "outputId": "f2c40426-3e8a-41e9-c654-bea3c9ceb19a"
      },
      "source": [
        "tuple.count(\"Shejan\")"
      ],
      "execution_count": null,
      "outputs": [
        {
          "output_type": "execute_result",
          "data": {
            "text/plain": [
              "1"
            ]
          },
          "metadata": {
            "tags": []
          },
          "execution_count": 16
        }
      ]
    },
    {
      "cell_type": "code",
      "metadata": {
        "id": "ibXCS9FATGoS",
        "colab_type": "code",
        "colab": {
          "base_uri": "https://localhost:8080/",
          "height": 34
        },
        "outputId": "a09cd3e8-faad-4847-e986-f5d726c1cc05"
      },
      "source": [
        "tuple.index(\"Virani\")"
      ],
      "execution_count": null,
      "outputs": [
        {
          "output_type": "execute_result",
          "data": {
            "text/plain": [
              "2"
            ]
          },
          "metadata": {
            "tags": []
          },
          "execution_count": 15
        }
      ]
    },
    {
      "cell_type": "code",
      "metadata": {
        "id": "pRlTSydxTc8b",
        "colab_type": "code",
        "colab": {
          "base_uri": "https://localhost:8080/",
          "height": 51
        },
        "outputId": "0157b2ad-f4a0-465d-a048-1a3a94062141"
      },
      "source": [
        "tuple1 = (\"Submitted by: Shejan N. Virani\",\"Submitted to: Letsupgrade Python Essentials Batch 7 Day 2 Shejan V\")\n",
        "tuple1"
      ],
      "execution_count": null,
      "outputs": [
        {
          "output_type": "execute_result",
          "data": {
            "text/plain": [
              "('Submitted by: Shejan N. Virani',\n",
              " 'Submitted to: Letsupgrade Python Essentials Batch 7 Day 2 Shejan V')"
            ]
          },
          "metadata": {
            "tags": []
          },
          "execution_count": 34
        }
      ]
    },
    {
      "cell_type": "markdown",
      "metadata": {
        "id": "VV3LLs1kTl5t",
        "colab_type": "text"
      },
      "source": [
        "##Q 5. String"
      ]
    },
    {
      "cell_type": "code",
      "metadata": {
        "id": "sw7Wv9wUTsXo",
        "colab_type": "code",
        "colab": {
          "base_uri": "https://localhost:8080/",
          "height": 35
        },
        "outputId": "68a4043b-bcb8-4ea0-ec25-991be7b10778"
      },
      "source": [
        "Name = \"Shejan\"\n",
        "Surname = \"Virani\"\n",
        "Name+\" \"+Surname"
      ],
      "execution_count": null,
      "outputs": [
        {
          "output_type": "execute_result",
          "data": {
            "application/vnd.google.colaboratory.intrinsic+json": {
              "type": "string"
            },
            "text/plain": [
              "'Shejan Virani'"
            ]
          },
          "metadata": {
            "tags": []
          },
          "execution_count": 17
        }
      ]
    },
    {
      "cell_type": "code",
      "metadata": {
        "id": "vxsdJjhnT6mt",
        "colab_type": "code",
        "colab": {}
      },
      "source": [
        "string = \"air bags\""
      ],
      "execution_count": null,
      "outputs": []
    },
    {
      "cell_type": "code",
      "metadata": {
        "id": "PMUOVnSZUA0r",
        "colab_type": "code",
        "colab": {
          "base_uri": "https://localhost:8080/",
          "height": 35
        },
        "outputId": "9d6cea77-c60f-40c3-f11a-da5b342c104e"
      },
      "source": [
        "string.capitalize()"
      ],
      "execution_count": null,
      "outputs": [
        {
          "output_type": "execute_result",
          "data": {
            "application/vnd.google.colaboratory.intrinsic+json": {
              "type": "string"
            },
            "text/plain": [
              "'Air bags'"
            ]
          },
          "metadata": {
            "tags": []
          },
          "execution_count": 19
        }
      ]
    },
    {
      "cell_type": "code",
      "metadata": {
        "id": "BaeWklvJUCfZ",
        "colab_type": "code",
        "colab": {
          "base_uri": "https://localhost:8080/",
          "height": 35
        },
        "outputId": "bc55e29d-d5fe-4eb5-9646-15ebbda6ce18"
      },
      "source": [
        "string.casefold()"
      ],
      "execution_count": null,
      "outputs": [
        {
          "output_type": "execute_result",
          "data": {
            "application/vnd.google.colaboratory.intrinsic+json": {
              "type": "string"
            },
            "text/plain": [
              "'air bags'"
            ]
          },
          "metadata": {
            "tags": []
          },
          "execution_count": 20
        }
      ]
    },
    {
      "cell_type": "code",
      "metadata": {
        "id": "tHCacVUOUFPc",
        "colab_type": "code",
        "colab": {}
      },
      "source": [
        "string1 = \"Fly Kite\""
      ],
      "execution_count": null,
      "outputs": []
    },
    {
      "cell_type": "code",
      "metadata": {
        "id": "kYOVUjQEUSfQ",
        "colab_type": "code",
        "colab": {
          "base_uri": "https://localhost:8080/",
          "height": 34
        },
        "outputId": "f55335c0-d985-4a50-a94d-1140ad9b854d"
      },
      "source": [
        "string.count(string1)"
      ],
      "execution_count": null,
      "outputs": [
        {
          "output_type": "execute_result",
          "data": {
            "text/plain": [
              "0"
            ]
          },
          "metadata": {
            "tags": []
          },
          "execution_count": 22
        }
      ]
    },
    {
      "cell_type": "code",
      "metadata": {
        "id": "VcAvO2KUUX-F",
        "colab_type": "code",
        "colab": {
          "base_uri": "https://localhost:8080/",
          "height": 34
        },
        "outputId": "dc92b3a4-09b9-40ac-fb6e-e0affc87d2cc"
      },
      "source": [
        "string.islower()"
      ],
      "execution_count": null,
      "outputs": [
        {
          "output_type": "execute_result",
          "data": {
            "text/plain": [
              "True"
            ]
          },
          "metadata": {
            "tags": []
          },
          "execution_count": 25
        }
      ]
    },
    {
      "cell_type": "code",
      "metadata": {
        "id": "OfTqerBPUe0h",
        "colab_type": "code",
        "colab": {}
      },
      "source": [
        "string2 = \"20\""
      ],
      "execution_count": null,
      "outputs": []
    },
    {
      "cell_type": "code",
      "metadata": {
        "id": "lFbP-AQ4UiHa",
        "colab_type": "code",
        "colab": {
          "base_uri": "https://localhost:8080/",
          "height": 34
        },
        "outputId": "50674a33-a1de-4171-bc01-7da13db7645e"
      },
      "source": [
        "string2.isdigit()"
      ],
      "execution_count": null,
      "outputs": [
        {
          "output_type": "execute_result",
          "data": {
            "text/plain": [
              "True"
            ]
          },
          "metadata": {
            "tags": []
          },
          "execution_count": 109
        }
      ]
    },
    {
      "cell_type": "code",
      "metadata": {
        "id": "YGBULuSwU9hc",
        "colab_type": "code",
        "colab": {
          "base_uri": "https://localhost:8080/",
          "height": 34
        },
        "outputId": "04671e8e-a80d-4eae-bfcf-aeedaf2bd5b3"
      },
      "source": [
        "string.rindex(string)"
      ],
      "execution_count": null,
      "outputs": [
        {
          "output_type": "execute_result",
          "data": {
            "text/plain": [
              "0"
            ]
          },
          "metadata": {
            "tags": []
          },
          "execution_count": 28
        }
      ]
    },
    {
      "cell_type": "code",
      "metadata": {
        "id": "llRPd1JyVDbp",
        "colab_type": "code",
        "colab": {
          "base_uri": "https://localhost:8080/",
          "height": 35
        },
        "outputId": "4788cb17-68da-491c-a187-e14334e5e51d"
      },
      "source": [
        "a = \"Submitted by: Shejan N Virani\"\n",
        "b = \"Submitted to: Letsupgrade Python Essentials Batch 7 Day 2\"\n",
        "a+\"  \"+b"
      ],
      "execution_count": null,
      "outputs": [
        {
          "output_type": "execute_result",
          "data": {
            "application/vnd.google.colaboratory.intrinsic+json": {
              "type": "string"
            },
            "text/plain": [
              "'Submitted by: Shejan N Virani  Submitted to: Letsupgrade Python Essentials Batch 7 Day 2'"
            ]
          },
          "metadata": {
            "tags": []
          },
          "execution_count": 29
        }
      ]
    }
  ]
}