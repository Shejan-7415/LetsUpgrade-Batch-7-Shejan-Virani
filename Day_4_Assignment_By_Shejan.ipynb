{
  "nbformat": 4,
  "nbformat_minor": 0,
  "metadata": {
    "colab": {
      "name": "Day_4_Assignment.ipynb",
      "provenance": []
    },
    "kernelspec": {
      "name": "python3",
      "display_name": "Python 3"
    }
  },
  "cells": [
    {
      "cell_type": "markdown",
      "metadata": {
        "id": "xctBj-lXywGN",
        "colab_type": "text"
      },
      "source": [
        "#Day 4 Assignment"
      ]
    },
    {
      "cell_type": "code",
      "metadata": {
        "id": "nJqHcQRry4yv",
        "colab_type": "code",
        "colab": {
          "base_uri": "https://localhost:8080/",
          "height": 51
        },
        "outputId": "3e613259-c6a9-4025-d052-345794d3f9af"
      },
      "source": [
        "print(\"Assignment Submitted by Shejan N. Virani\")\n",
        "print(\"www.shejanbro1.0@gmail.com\")"
      ],
      "execution_count": 1,
      "outputs": [
        {
          "output_type": "stream",
          "text": [
            "Assignment Submitted by Shejan N. Virani\n",
            "www.shejanbro1.0@gmail.com\n"
          ],
          "name": "stdout"
        }
      ]
    },
    {
      "cell_type": "markdown",
      "metadata": {
        "id": "16bpIueTxvht",
        "colab_type": "text"
      },
      "source": [
        "###Q 1. Print the first ArmStrong number in the range of 1042000 to 702648265 and exit the loop as soon as you encounter the first armstrong number. Use while loop"
      ]
    },
    {
      "cell_type": "code",
      "metadata": {
        "id": "PqYy_q4WC7gY",
        "colab_type": "code",
        "colab": {
          "base_uri": "https://localhost:8080/",
          "height": 34
        },
        "outputId": "55c9fecb-969b-4930-9fb8-d7bd5a1796b3"
      },
      "source": [
        "l=1042000\n",
        "u = 702648265\n",
        "for n in range (l,u + 1):\n",
        "    o= len (str(n))\n",
        "    sum = 0\n",
        "    temp = n\n",
        "    while temp > 0:\n",
        "        x = temp % 10\n",
        "        sum += x ** o\n",
        "        temp //= 10\n",
        "\n",
        "    if n == sum:\n",
        "        print(n)\n",
        "        break"
      ],
      "execution_count": 2,
      "outputs": [
        {
          "output_type": "stream",
          "text": [
            "1741725\n"
          ],
          "name": "stdout"
        }
      ]
    }
  ]
}