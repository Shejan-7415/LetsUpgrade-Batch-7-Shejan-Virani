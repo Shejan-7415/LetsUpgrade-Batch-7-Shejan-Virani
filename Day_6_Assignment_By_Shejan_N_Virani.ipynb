{
  "nbformat": 4,
  "nbformat_minor": 0,
  "metadata": {
    "colab": {
      "name": "Day_6_Assignment_By_Shejan_N_Virani.ipynb",
      "provenance": []
    },
    "kernelspec": {
      "name": "python3",
      "display_name": "Python 3"
    }
  },
  "cells": [
    {
      "cell_type": "code",
      "metadata": {
        "id": "XuNIm71Z-x-X",
        "colab_type": "code",
        "colab": {
          "base_uri": "https://localhost:8080/",
          "height": 51
        },
        "outputId": "f5352c38-f53d-4d94-bd98-282ebcfeedfb"
      },
      "source": [
        "print(\"Assignment Submitted by Shejan N. Virani\")\n",
        "print(\"www.shejanbro1.0@gmail.com\")"
      ],
      "execution_count": 1,
      "outputs": [
        {
          "output_type": "stream",
          "text": [
            "Assignment Submitted by Shejan N. Virani\n",
            "www.shejanbro1.0@gmail.com\n"
          ],
          "name": "stdout"
        }
      ]
    },
    {
      "cell_type": "markdown",
      "metadata": {
        "id": "xflMQ-WW_GoS",
        "colab_type": "text"
      },
      "source": [
        "####Q1. For this challenge,create a bank account class that has two attributes\n",
        "####*Name\n",
        "####*Balance\n",
        "####And two methods\n",
        "####*deposit\n",
        "####*withdraw\n",
        "####As an added requirement,withdrawals may not exceed the available balance. Instantiate your class,make several deposits and withdrawals,and test to make sure the account cant be overdrawn."
      ]
    },
    {
      "cell_type": "code",
      "metadata": {
        "id": "gq7koalg_KF-",
        "colab_type": "code",
        "colab": {
          "base_uri": "https://localhost:8080/",
          "height": 102
        },
        "outputId": "4b77d833-ae49-4a69-ec2e-3b1325bc553a"
      },
      "source": [
        "\n",
        "class Account:\n",
        "    \n",
        "    def __init__(s, o, balance):\n",
        "        s.o = o\n",
        "        s.balance = balance\n",
        "    \n",
        "    def __str__(s):\n",
        "        return 'Account owner: {o}\\nAccount balance: ₹{balance}'.format(o=s.o, balance=s.balance)\n",
        "        \n",
        "    def deposit(s, d_money):\n",
        "        s.balance += d_money\n",
        "        print('dosit Accepted, your balance is ₹{balance}'.format(balance=s.balance))\n",
        "    \n",
        "    def withdraw(s, w_money):\n",
        "        if w_money > s.balance:\n",
        "            print('Funds Unavailable!')\n",
        "        else:\n",
        "            s.balance -= w_money\n",
        "            print('Withdrawal Accepted, your balance is ₹{balance}'.format(balance=s.balance))\n",
        "            \n",
        "act = Account('Shejan N. Virani',1000000)\n",
        "print(act)\n",
        "\n",
        "act.deposit(90050)\n",
        "act.withdraw(9503)\n",
        "act.withdraw(525003)"
      ],
      "execution_count": 2,
      "outputs": [
        {
          "output_type": "stream",
          "text": [
            "Account owner: Shejan N. Virani\n",
            "Account balance: ₹1000000\n",
            "dosit Accepted, your balance is ₹1090050\n",
            "Withdrawal Accepted, your balance is ₹1080547\n",
            "Withdrawal Accepted, your balance is ₹555544\n"
          ],
          "name": "stdout"
        }
      ]
    },
    {
      "cell_type": "markdown",
      "metadata": {
        "id": "sHMt7ulMAofj",
        "colab_type": "text"
      },
      "source": [
        "\n",
        "\n",
        "---\n",
        "\n"
      ]
    },
    {
      "cell_type": "markdown",
      "metadata": {
        "id": "RMdyL-8r_XRC",
        "colab_type": "text"
      },
      "source": [
        "####Q2. For this challenge,create a cone class that has two attributes:\n",
        "####*R=Radius\n",
        "####*H=height\n",
        "####And two methods:\n",
        "####*Volume = Π * r2 = (h/3)\n",
        "####*Surface area : base : Π * r2 , side : Π * r * √(r2 + h2)\n",
        "####Make only one class with functions,as in where required import Math."
      ]
    },
    {
      "cell_type": "code",
      "metadata": {
        "id": "CyP5G0PX_x6y",
        "colab_type": "code",
        "colab": {
          "base_uri": "https://localhost:8080/",
          "height": 136
        },
        "outputId": "ca1e88cb-b866-4d17-a303-c0d883936dfc"
      },
      "source": [
        "\n",
        "import math\n",
        "\n",
        "r = input('Please Enter the Radius of a Cone: ')\n",
        "h = input('Please Enter the Height of a Cone: ')\n",
        "r=float(r)\n",
        "h=float(h)\n",
        "l = math.sqrt(r * r + h * h)\n",
        "\n",
        "\n",
        "S = math.pi * r * (r + l)\n",
        "\n",
        "V = (1.0/3) * math.pi * r * r * h\n",
        "\n",
        "\n",
        "LS = math.pi * r  * l\n",
        "\n",
        "print(\"\\nLength of  Slant of cone  = %.2f\" %l)\n",
        "print(\"Surface Area of cone = %.2f \" %S)\n",
        "print(\"Volume  = %.2f\" %V);\n",
        "print(\"Lateral Surface Area  = %.2f \" %LS)"
      ],
      "execution_count": 3,
      "outputs": [
        {
          "output_type": "stream",
          "text": [
            "Please Enter the Radius of a Cone: 40\n",
            "Please Enter the Height of a Cone: 30\n",
            "\n",
            "Length of  Slant of cone  = 50.00\n",
            "Surface Area of cone = 11309.73 \n",
            "Volume  = 50265.48\n",
            "Lateral Surface Area  = 6283.19 \n"
          ],
          "name": "stdout"
        }
      ]
    },
    {
      "cell_type": "markdown",
      "metadata": {
        "id": "Z0fG0SxZAnGp",
        "colab_type": "text"
      },
      "source": [
        "\n",
        "\n",
        "---\n",
        "\n"
      ]
    }
  ]
}