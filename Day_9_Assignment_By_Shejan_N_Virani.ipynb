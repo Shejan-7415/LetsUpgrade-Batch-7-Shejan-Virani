{
  "nbformat": 4,
  "nbformat_minor": 0,
  "metadata": {
    "colab": {
      "name": "Day9.ipynb",
      "provenance": []
    },
    "kernelspec": {
      "name": "python3",
      "display_name": "Python 3"
    }
  },
  "cells": [
    {
      "cell_type": "markdown",
      "metadata": {
        "id": "PFSLLTHPKUUw",
        "colab_type": "text"
      },
      "source": [
        "###Q2.  Make a small generator program for returning armstrong numbers in between 1-1000 in a generator object."
      ]
    },
    {
      "cell_type": "code",
      "metadata": {
        "id": "XJLxkCQTKT0y",
        "colab_type": "code",
        "colab": {
          "base_uri": "https://localhost:8080/",
          "height": 34
        },
        "outputId": "65240357-59e9-4756-ff32-6980bd4e2163"
      },
      "source": [
        "def Armstrong(s,v):\n",
        "    for n in range(s,v+1):\n",
        "        order = len(str(n))\n",
        "        sum = 0\n",
        "        temp = n\n",
        "        while temp > 0:\n",
        "            digit = temp % 10\n",
        "            sum += digit ** order\n",
        "            temp //= 10\n",
        "        if n == sum:\n",
        "            yield n\n",
        "Numbers = Armstrong(1, 1000)\n",
        "list(Numbers)"
      ],
      "execution_count": 7,
      "outputs": [
        {
          "output_type": "execute_result",
          "data": {
            "text/plain": [
              "[1, 2, 3, 4, 5, 6, 7, 8, 9, 153, 370, 371, 407]"
            ]
          },
          "metadata": {
            "tags": []
          },
          "execution_count": 7
        }
      ]
    }
  ]
}